{
 "cells": [
  {
   "cell_type": "markdown",
   "id": "962a7267",
   "metadata": {},
   "source": [
    "# Finding the Optimised Stock Portfolio among a list of stocks"
   ]
  },
  {
   "cell_type": "markdown",
   "id": "7e7b3de0",
   "metadata": {},
   "source": [
    "Under Mean-Variance Portfolio Theorem, the optimised stock portfolio is the stock portfolio with the highest Sharpe ratio. This is a computer programme to find the optimised stock portfolio, formed by stocks in a specified stock list (which is decided by the user). It will compute the weight of each stock in the optimised portfolio. This programme consist of 2 parts. The 1st part is using traditional matrix methods to solve for those weights. This method has the limitation of assuming that there are no transaction costs and assuming that lending cost and borrowing cost is the same. The 2nd part accounts for other factors in reality, such as transaction costs, dividend tax and the fact that lending cost and borrowing cost is not the same. This part exports the necessary data to Microsoft Excel. In Excel, you can write your own formulas (which accounts for transaction costs, dividend tax, a speficied borrowing rate or even other factors) to compute the mean and standard deviation of the portfolio's return, and the portfolio's Sharpe ratio. Lastly, you can use the \"Solver\" function in Excel to solve for the weight of each stock in the optimised portfolio."
   ]
  },
  {
   "cell_type": "code",
   "execution_count": 2,
   "id": "f6a86fc9",
   "metadata": {
    "scrolled": true
   },
   "outputs": [],
   "source": [
    "import numpy as np\n",
    "import pandas as pd\n",
    "from datetime import datetime"
   ]
  },
  {
   "cell_type": "code",
   "execution_count": 5,
   "id": "7231eb7c",
   "metadata": {},
   "outputs": [],
   "source": [
    "import yfinance as yf"
   ]
  },
  {
   "cell_type": "markdown",
   "id": "8f97a8a0",
   "metadata": {},
   "source": [
    "First we have to decide a stock list that our portfolio choose stocks from, such as the the constituents of Dow Jones Industrial Average (DJIA), or the constituents of S&P 500 index, as shown in the code cell below. Then we get the monthly adjusted closing price (over the past 6 years) of those stocks. For example, in the code cell below, the S&P 500 constituents at the end of 2022 is chosen as the stock list and then we get the monthly adjusted closing price of this stock list from 2016-12-01 to 2022-12-31."
   ]
  },
  {
   "cell_type": "code",
   "execution_count": 64,
   "id": "7e113a49",
   "metadata": {},
   "outputs": [
    {
     "name": "stdout",
     "output_type": "stream",
     "text": [
      "['MMM', 'AOS', 'ABT', 'ABBV', 'ACN', 'ATVI', 'ADM', 'ADBE', 'ADP', 'AAP', 'AES', 'AFL', 'A', 'APD', 'AKAM', 'ALK', 'ALB', 'ARE', 'ALGN', 'ALLE', 'LNT', 'ALL', 'GOOGL', 'GOOG', 'MO', 'AMZN', 'AMCR', 'AMD', 'AEE', 'AAL', 'AEP', 'AXP', 'AIG', 'AMT', 'AWK', 'AMP', 'ABC', 'AME', 'AMGN', 'APH', 'ADI', 'ANSS', 'AON', 'APA', 'AAPL', 'AMAT', 'APTV', 'TWTR', 'ANET', 'AJG', 'AIZ', 'T', 'ATO', 'ADSK', 'AZO', 'AVB', 'AVY', 'FRC', 'BKR', 'BALL', 'BAC', 'BBWI', 'BAX', 'BDX', 'WRB', 'BRK-B', 'BBY', 'BIO', 'TECH', 'BIIB', 'BLK', 'BK', 'BA', 'BKNG', 'BWA', 'BXP', 'BSX', 'BMY', 'AVGO', 'BR', 'BRO', 'BF-B', 'SBNY', 'CHRW', 'CDNS', 'CZR', 'PBCT', 'CPB', 'COF', 'CAH', 'KMX', 'CCL', 'CARR', 'CTLT', 'CAT', 'CBOE', 'CBRE', 'CDW', 'CE', 'CNC', 'CNP', 'CDAY', 'CF', 'CRL', 'SCHW', 'CHTR', 'CVX', 'CMG', 'CB', 'CHD', 'CI', 'CINF', 'CTAS', 'CSCO', 'C', 'CFG', 'CLX', 'CME', 'CMS', 'KO', 'CTSH', 'CL', 'CMCSA', 'CMA', 'CAG', 'COP', 'ED', 'STZ', 'GPS', 'COO', 'CPRT', 'GLW', 'CTVA', 'PVH', 'COST', 'CTRA', 'CCI', 'CSX', 'CMI', 'CVS', 'DHI', 'DHR', 'DRI', 'DVA', 'DE', 'DAL', 'XRAY', 'DVN', 'DXCM', 'FANG', 'DLR', 'DFS', 'DISH', 'DIS', 'DG', 'DLTR', 'D', 'DPZ', 'DOV', 'DOW', 'DTE', 'DUK', 'DD', 'DXC', 'EMN', 'ETN', 'EBAY', 'ECL', 'EIX', 'EW', 'EA', 'ELV', 'LLY', 'EMR', 'ENPH', 'ETR', 'EOG', 'EPAM', 'DRE', 'EFX', 'EQIX', 'EQR', 'ESS', 'EL', 'ETSY', 'RE', 'EVRG', 'ES', 'EXC', 'EXPE', 'EXPD', 'EXR', 'XOM', 'FFIV', 'FDS', 'LUMN', 'FAST', 'FRT', 'FDX', 'FITB', 'FBHS', 'FE', 'FIS', 'FISV', 'FLT', 'FMC', 'F', 'FTNT', 'FTV', 'FOXA', 'FOX', 'BEN', 'FCX', 'GRMN', 'IT', 'VNO', 'GEN', 'GNRC', 'GD', 'GE', 'GIS', 'GM', 'GPC', 'GILD', 'GL', 'GPN', 'GS', 'HAL', 'HIG', 'HAS', 'HCA', 'PEAK', 'HSIC', 'HSY', 'HES', 'HPE', 'HLT', 'HOLX', 'HD', 'HON', 'HRL', 'HST', 'HWM', 'HPQ', 'HUM', 'HBAN', 'HII', 'IBM', 'IEX', 'IDXX', 'ITW', 'ILMN', 'INCY', 'IR', 'SIVB', 'INTC', 'ICE', 'IFF', 'IP', 'IPG', 'INTU', 'ISRG', 'IVZ', 'PENN', 'IQV', 'IRM', 'JBHT', 'JKHY', 'J', 'JNJ', 'JCI', 'JPM', 'JNPR', 'K', 'UA', 'KEY', 'KEYS', 'KMB', 'KIM', 'KMI', 'KLAC', 'KHC', 'KR', 'LHX', 'LH', 'LRCX', 'LW', 'LVS', 'LDOS', 'LEN', 'LNC', 'LIN', 'LYV', 'LKQ', 'LMT', 'L', 'LOW', 'LYB', 'MTB', 'MRO', 'MPC', 'MKTX', 'MAR', 'MMC', 'MLM', 'MAS', 'MA', 'MTCH', 'MKC', 'MCD', 'MCK', 'MDT', 'MRK', 'META', 'MET', 'MTD', 'MGM', 'MCHP', 'MU', 'MSFT', 'MAA', 'MRNA', 'MHK', 'INFO', 'TAP', 'MDLZ', 'MPWR', 'MNST', 'MCO', 'MS', 'MOS', 'MSI', 'MSCI', 'NDAQ', 'NTAP', 'NFLX', 'NWL', 'NEM', 'NWSA', 'NWS', 'NEE', 'NKE', 'NI', 'XLNX', 'NSC', 'NTRS', 'NOC', 'NCLH', 'NRG', 'NUE', 'NVDA', 'NVR', 'NXPI', 'ORLY', 'OXY', 'ODFL', 'OMC', 'IPGP', 'OKE', 'ORCL', 'OGN', 'OTIS', 'PCAR', 'PKG', 'PARA', 'PH', 'PAYX', 'PAYC', 'PYPL', 'PNR', 'PEP', 'PFE', 'CTXS', 'PM', 'PSX', 'PNW', 'PXD', 'PNC', 'POOL', 'PPG', 'PPL', 'PFG', 'PG', 'PGR', 'PLD', 'PRU', 'PEG', 'PTC', 'PSA', 'PHM', 'QRVO', 'PWR', 'QCOM', 'DGX', 'RL', 'RJF', 'RTX', 'O', 'REG', 'REGN', 'RF', 'RSG', 'RMD', 'RVTY', 'RHI', 'ROK', 'ROL', 'ROP', 'ROST', 'RCL', 'SPGI', 'CRM', 'SBAC', 'SLB', 'STX', 'SEE', 'SRE', 'NOW', 'SHW', 'SPG', 'SWKS', 'SJM', 'SNA', 'SEDG', 'SO', 'LUV', 'SWK', 'SBUX', 'STT', 'ABMD', 'STE', 'SYK', 'SYF', 'SNPS', 'SYY', 'TMUS', 'TROW', 'TTWO', 'TPR', 'NLSN', 'TGT', 'TEL', 'TDY', 'TFX', 'TER', 'TSLA', 'TXN', 'TXT', 'TMO', 'TJX', 'TSCO', 'TT', 'TDG', 'TRV', 'TRMB', 'TFC', 'TYL', 'TSN', 'USB', 'UDR', 'ULTA', 'UNP', 'UAL', 'UPS', 'URI', 'UNH', 'UHS', 'VLO', 'VTR', 'VRSN', 'VRSK', 'VZ', 'VRTX', 'VFC', 'VTRS', 'CERN', 'V', 'VMC', 'WAB', 'WBA', 'WMT', 'WBD', 'WM', 'WAT', 'WEC', 'WFC', 'WELL', 'WST', 'WDC', 'WRK', 'WY', 'WHR', 'WMB', 'WTW', 'GWW', 'WYNN', 'XEL', 'XYL', 'YUM', 'ZBRA', 'ZBH', 'ZION', 'ZTS']\n",
      "\n",
      "12 Failed downloads:\n",
      "- XLNX: No timezone found, symbol may be delisted\n",
      "- NLSN: No timezone found, symbol may be delisted\n",
      "- SIVB: No timezone found, symbol may be delisted\n",
      "- TWTR: No timezone found, symbol may be delisted\n",
      "- FBHS: No timezone found, symbol may be delisted\n",
      "- FRC: Data doesn't exist for startDate = 1480568400, endDate = 1672462800\n",
      "- INFO: No timezone found, symbol may be delisted\n",
      "- FISV: Data doesn't exist for startDate = 1480568400, endDate = 1672462800\n",
      "- CERN: No timezone found, symbol may be delisted\n",
      "- CTXS: No timezone found, symbol may be delisted\n",
      "- PBCT: No timezone found, symbol may be delisted\n",
      "- DRE: No timezone found, symbol may be delisted\n"
     ]
    }
   ],
   "source": [
    "#DJIA stock list\n",
    "djia_lst = ['MMM', 'AXP', 'AMGN', 'AAPL', 'BA', 'CAT', 'CVX', 'CSCO', 'KO', 'DOW', 'GS', 'HD', 'HON', 'IBM', 'INTC', 'JNJ', 'JPM', 'MCD', 'MRK', 'MSFT', 'NKE', 'PG', 'CRM', 'TRV', 'UNH', 'VZ', 'V', 'WBA', 'WMT', 'DIS']\n",
    "\n",
    "#The following is the code to get the list of constituents of S&P 500 index as of the end of 2022.\n",
    "#You can change the year in the following \"for block\" to get the constituents list as of the end of your desired year. \n",
    "fhand = open('.\\Documents\\Stock\\Backtests\\SP_List.csv', 'r')\n",
    "sp = []\n",
    "for line in fhand:\n",
    "    line = line.rstrip()\n",
    "    line = line.split(',')\n",
    "    if line[0] == '2021':\n",
    "        splst = []\n",
    "        for i in line:\n",
    "            if i != '' and i != '2021':\n",
    "                splst.append(i)\n",
    "        print(splst)\n",
    "\n",
    "#Get the monthly adjusted closing price of the chosen stock list. In this example, the S&P 500 stock list is chosen.\n",
    "#E.g. below is getting the data with start date 2016-12-01 and end date 2022-12-31. Change the year and date if needed.\n",
    "#You can change \"splst\" below to \"djia_lst\" if you want to choose the DJIA stock list instead of the S&P 500 one.\n",
    "djia_s = yf.download(splst, \n",
    "                      start='2016-12-01', \n",
    "                      end='2022-12-31', \n",
    "                      progress=False,\n",
    "                      interval=\"1mo\",\n",
    ").drop(columns = ['Open', 'High', 'Low', 'Close', 'Volume'], axis=1)\n",
    "\n",
    "fhand.close()\n"
   ]
  },
  {
   "cell_type": "markdown",
   "id": "f263c6e3",
   "metadata": {},
   "source": [
    "In the following 2 code cells, we are going to compute the dividend yield of the last year for the stocks, as an estimate of the dividend yield of the coming year. This is used to account for the effect of dividend tax on the return."
   ]
  },
  {
   "cell_type": "code",
   "execution_count": 15,
   "id": "962b05ea",
   "metadata": {},
   "outputs": [
    {
     "name": "stdout",
     "output_type": "stream",
     "text": [
      "                 AAPL  AMGN   AXP   BA   CAT  CRM  CSCO   CVX  DIS  DOW  ...  \\\n",
      "Annual Dividend  0.91  7.76  1.99  0.0  4.62  0.0  1.51  5.68  0.0  2.8  ...   \n",
      "\n",
      "                 MRK  MSFT    NKE     PG   TRV  UNH      V     VZ    WBA   WMT  \n",
      "Annual Dividend  2.8  2.54  1.255  3.609  3.67  6.4  1.575  2.573  1.916  2.24  \n",
      "\n",
      "[1 rows x 30 columns]\n",
      "(1, 30)\n"
     ]
    }
   ],
   "source": [
    "#Get the annual total dividend of the last year\n",
    "# Define the start and end dates (full year of 2022)\n",
    "start_date = datetime(2022, 1, 1)\n",
    "end_date = datetime(2022, 12, 31)\n",
    "\n",
    "# Download the dividends for each symbol and concatenate the results\n",
    "dfs = []\n",
    "for symbol in sorted(djia_lst):\n",
    "    stock = yf.Ticker(symbol)\n",
    "    dividends = stock.history(start=start_date, end=end_date)[\"Dividends\"].to_frame(name=symbol)\n",
    "    dfs.append(dividends)\n",
    "\n",
    "#drop columns with NaN and/or zero values \n",
    "df = pd.concat(dfs, axis=1).dropna(axis=1, how='all')\n",
    "#df = df.loc[:, (df != 0).any(axis=0)]\n",
    "df.index.name = \"Date\"\n",
    "\n",
    "#add 'Annual Dividend' as the last row \n",
    "\n",
    "df.loc['Annual Dividend'] = df.sum(axis=0)\n",
    "\n",
    "#create a new frame with with 'Annual Dividend' row only\n",
    "\n",
    "annual_div = df.loc['Annual Dividend'].to_frame()\n",
    "div = annual_div.transpose()\n",
    "print(div)\n",
    "print(div.shape)"
   ]
  },
  {
   "cell_type": "code",
   "execution_count": 18,
   "id": "bfa285fe",
   "metadata": {},
   "outputs": [
    {
     "name": "stdout",
     "output_type": "stream",
     "text": [
      "                 Close                                                  \\\n",
      "                  AAPL        AMGN         AXP          BA         CAT   \n",
      "Date                                                                     \n",
      "2021-12-01  177.570007  224.970001  163.600006  201.320007  206.740005   \n",
      "\n",
      "                                                                      ...  \\\n",
      "                   CRM       CSCO         CVX         DIS        DOW  ...   \n",
      "Date                                                                  ...   \n",
      "2021-12-01  254.130005  63.369999  117.349998  154.889999  56.720001  ...   \n",
      "\n",
      "                                                                       \\\n",
      "                  MRK        MSFT         NKE          PG         TRV   \n",
      "Date                                                                    \n",
      "2021-12-01  76.639999  336.320007  166.669998  163.580002  156.429993   \n",
      "\n",
      "                                                                  \n",
      "                   UNH           V         VZ    WBA         WMT  \n",
      "Date                                                              \n",
      "2021-12-01  502.140015  216.710007  51.959999  52.16  144.690002  \n",
      "\n",
      "[1 rows x 30 columns]\n",
      "       AAPL      AMGN       AXP   BA       CAT  CRM      CSCO       CVX  DIS  \\\n",
      "0  0.005125  0.034493  0.012164  0.0  0.022347  0.0  0.023828  0.048402  0.0   \n",
      "\n",
      "        DOW  ...       MRK      MSFT      NKE        PG       TRV       UNH  \\\n",
      "0  0.049365  ...  0.036534  0.007552  0.00753  0.022063  0.023461  0.012745   \n",
      "\n",
      "          V        VZ       WBA       WMT  \n",
      "0  0.007268  0.049519  0.036733  0.015481  \n",
      "\n",
      "[1 rows x 30 columns]\n"
     ]
    }
   ],
   "source": [
    "#Compute the dividend yield of the last year\n",
    "djia_close = yf.download(djia_lst, \n",
    "                      start='2021-12-01', \n",
    "                      end='2021-12-31', \n",
    "                      progress=False,\n",
    "                      interval=\"1mo\",\n",
    ").drop(columns = ['Open', 'High', 'Low', 'Adj Close', 'Volume'], axis=1)\n",
    "print(djia_close)\n",
    "dyield = div.to_numpy()/djia_close.to_numpy()\n",
    "dyield = pd.DataFrame(div.to_numpy()/djia_close.to_numpy(), columns=div.columns)\n",
    "print(dyield)\n",
    "    "
   ]
  },
  {
   "cell_type": "markdown",
   "id": "b40ce5fe",
   "metadata": {},
   "source": [
    "In the following code cell, we compute the continuously compounding return (difference in logarithms) of the DJIA stocks, find the mean and sample standard deviation (SD) of the returns (over the past 5 years) of the stocks and compute the sample variance-covariance matrix of the returns of the stocks. Then we proceed to use matrix methods to solve for the weight of each stock in the optimised portfolio such that the Sharpe ratio is maximised."
   ]
  },
  {
   "cell_type": "code",
   "execution_count": 63,
   "id": "5acc171c",
   "metadata": {
    "scrolled": false
   },
   "outputs": [
    {
     "name": "stdout",
     "output_type": "stream",
     "text": [
      "A       0.259140\n",
      "AAL    -0.184227\n",
      "AAP     0.074843\n",
      "AAPL    0.374827\n",
      "ABBV    0.200189\n",
      "          ...   \n",
      "YUM     0.174374\n",
      "ZBH     0.049311\n",
      "ZBRA    0.387469\n",
      "ZION    0.100613\n",
      "ZTS     0.309548\n",
      "Length: 482, dtype: float64\n",
      "0.015006831758918347\n",
      "A       0.244134\n",
      "AAL    -0.199234\n",
      "AAP     0.059836\n",
      "AAPL    0.359820\n",
      "ABBV    0.185182\n",
      "          ...   \n",
      "YUM     0.159367\n",
      "ZBH     0.034304\n",
      "ZBRA    0.372462\n",
      "ZION    0.085606\n",
      "ZTS     0.294541\n",
      "Length: 482, dtype: float64\n",
      "A       0.006032\n",
      "AAL    -0.005965\n",
      "AAP    -0.001877\n",
      "AAPL    0.002994\n",
      "ABBV   -0.002215\n",
      "          ...   \n",
      "YUM     0.005866\n",
      "ZBH    -0.020285\n",
      "ZBRA    0.012596\n",
      "ZION   -0.002457\n",
      "ZTS     0.014020\n",
      "Length: 482, dtype: float64\n",
      "ABT     0.131955\n",
      "AWK     0.025369\n",
      "COST    0.201556\n",
      "ETSY    0.023804\n",
      "FTNT    0.159434\n",
      "LRCX    0.053491\n",
      "NEE     0.184322\n",
      "SEDG    0.104809\n",
      "TMO     0.099338\n",
      "TSLA    0.015922\n",
      "dtype: float64\n",
      "(10,)\n",
      "['ABT', 'AWK', 'COST', 'ETSY', 'FTNT', 'LRCX', 'NEE', 'SEDG', 'TMO', 'TSLA']\n",
      "ABT     0.793181\n",
      "AWK     0.821079\n",
      "COST    0.809502\n",
      "ETSY    0.547091\n",
      "FTNT    0.680161\n",
      "LRCX    0.591862\n",
      "NEE     0.914559\n",
      "SEDG    1.009623\n",
      "TMO     0.827048\n",
      "TSLA    0.349685\n",
      "dtype: float64\n",
      "-0.21828894843992258\n"
     ]
    }
   ],
   "source": [
    "#Compute the continuously compounding return (difference in logarithms) of the stocks\n",
    "lst = np.log(djia_s)\n",
    "ri = lst.diff() \n",
    "ri.index = pd.to_datetime(ri.index)\n",
    "\n",
    "#Get the mean & sample standard deviation (SD) of the returns, over the past 5 years, of the stocks.\n",
    "#Please change the \"years\" below accordingly, if needed.\n",
    "rihist = ri['Adj Close'].loc['2017-01-01':'2021-12-31'].dropna(axis='columns')\n",
    "mean = rihist.mean(axis=0)*12\n",
    "sd = rihist.std(axis=0)*np.sqrt(12)\n",
    "print(mean)\n",
    "\n",
    "#Compute the sample variance-covariance matrix (sigma) of the returns of the stocks\n",
    "cov = rihist.cov()\n",
    "\n",
    "#Compute the inverse of sigma\n",
    "cov_inv = pd.DataFrame(np.linalg.pinv(cov.values), cov.columns, cov.index)\n",
    "\n",
    "#Get the risk-free interest rate at year-end\n",
    "#Please change the \"year\" below accordingly, if needed.\n",
    "rf = np.log(1+yf.download(\"^TNX\", \n",
    "                      start='2021-12-01', \n",
    "                      end='2021-12-31', \n",
    "                      progress=False,\n",
    "                      interval=\"1mo\",\n",
    ").drop(columns = ['Open', 'High', 'Low', 'Adj Close', 'Volume'], axis=1)/100)\n",
    "rfnp = rf.to_numpy()\n",
    "print(float(rfnp))\n",
    "\n",
    "miumrf = mean.sub(float(rfnp))\n",
    "print(miumrf)\n",
    "\n",
    "z = cov_inv.dot(miumrf)\n",
    "\n",
    "w = z.div(z.sum())\n",
    "print(w)\n",
    "\n",
    "#If short-selling is allowed, you do not need to use the following \"while\" block. You can \"comment\" this block. \n",
    "\n",
    "while (w<0).any():\n",
    "    w = w[w>0]\n",
    "    d = rihist[w.index]\n",
    "    c = d.cov()\n",
    "    c_inv = pd.DataFrame(np.linalg.pinv(c.values), c.columns, c.index)\n",
    "    m = mean[w.index].sub(float(rfnp))\n",
    "    z = c_inv.dot(m)\n",
    "    w = z.div(z.sum())\n",
    "\n",
    "#This print statement shows the weight of each stock in the optimised portfolio when short-selling is not allowed.\n",
    "print(w)\n",
    "print(w.shape)\n",
    "stocklst = list(w.index)\n",
    "print(stocklst)\n",
    "\n",
    "#The following codes print the continuous compounding return of the coming year after portfolio formation.\n",
    "#Please change the \"years\" below accordingly, if needed.\n",
    "print(np.exp(ri['Adj Close'].loc['2022-01-01':'2022-12-31'][stocklst].sum(axis=0)))\n",
    "result = w.dot(np.exp(ri['Adj Close'].loc['2022-01-01':'2022-12-31'][stocklst].sum(axis=0)))\n",
    "print(np.log(result))\n"
   ]
  },
  {
   "cell_type": "markdown",
   "id": "9299ea0a",
   "metadata": {},
   "source": [
    "This is the start of the 2nd part of this programme, which accounts for other factors in reality, such as transaction costs and the fact that lending cost and borrowing cost is not the same. "
   ]
  },
  {
   "cell_type": "code",
   "execution_count": 243,
   "id": "8c15eec7",
   "metadata": {},
   "outputs": [],
   "source": [
    "#This part exports the necessary data to Microsoft Excel.\n",
    "#In Excel, you can write your own formulas (which accounts for transaction costs, dividend tax, a speficied borrowing rate or even other factors) \n",
    "#to compute the mean and standard deviation of the portfolio's return, and the portfolio's Sharpe ratio.\n",
    "with pd.ExcelWriter('DJIA_2023.xlsx') as writer:  \n",
    "    djia_s.to_excel(writer, sheet_name='s')\n",
    "    rihist.to_excel(writer, sheet_name='r')\n",
    "    cov.to_excel(writer, sheet_name='cov')\n",
    "    mean.to_excel(writer, sheet_name='miu')\n",
    "    sd.to_excel(writer, sheet_name='sd')\n",
    "    dyield.to_excel(writer, sheet_name='div')"
   ]
  },
  {
   "cell_type": "markdown",
   "id": "e8fc28cd",
   "metadata": {},
   "source": [
    "Then proceed to Microsoft Excel to do the remaining jobs: \n",
    "1. compute the portfolio's monthly variance (and hence SD) by setting the weight of each stock, and by using the above covariance matrix. \n",
    "2. Then compute the annual SD by multiplying the monthly SD by square root of 12. \n",
    "3. Then write formulas (which accounts for transaction costs and dividend tax, a speficied borrowing rate or other factors) to compute the portfolio mean return.\n",
    "4. After that, write forumlas (by using a specified borrowing rate and/or lending rate) to compute the Sharpe ratio of the portfolio\n",
    "5. Lastly, use \"Solver\" to solve for the weight of each stock such that the Sharpe ratio is maximised."
   ]
  },
  {
   "cell_type": "code",
   "execution_count": 339,
   "id": "7fa30cb2",
   "metadata": {},
   "outputs": [
    {
     "name": "stdout",
     "output_type": "stream",
     "text": [
      "['MMM', 'AOS', 'ABT', 'ABBV', 'ACN', 'ATVI', 'ADM', 'ADBE', 'ADP', 'AAP', 'AES', 'AFL', 'A', 'APD', 'AKAM', 'ALK', 'ALB', 'ARE', 'ALGN', 'ALLE', 'LNT', 'ALL', 'GOOGL', 'GOOG', 'MO', 'AMZN', 'AMCR', 'AMD', 'AEE', 'AAL', 'AEP', 'AXP', 'AIG', 'AMT', 'AWK', 'AMP', 'ABC', 'AME', 'AMGN', 'APH', 'ADI', 'ANSS', 'AON', 'APA', 'AAPL', 'AMAT', 'APTV', 'ACGL', 'ANET', 'AJG', 'AIZ', 'T', 'ATO', 'ADSK', 'AZO', 'AVB', 'AVY', 'AXON', 'BKR', 'BALL', 'BAC', 'BBWI', 'BAX', 'BDX', 'WRB', 'BRK.B', 'BBY', 'BIO', 'TECH', 'BIIB', 'BLK', 'BK', 'BA', 'BKNG', 'BWA', 'BXP', 'BSX', 'BMY', 'AVGO', 'BR', 'BRO', 'BF.B', 'BG', 'CHRW', 'CDNS', 'CZR', 'CPT', 'CPB', 'COF', 'CAH', 'KMX', 'CCL', 'CARR', 'CTLT', 'CAT', 'CBOE', 'CBRE', 'CDW', 'CE', 'CNC', 'CNP', 'CDAY', 'CF', 'CRL', 'SCHW', 'CHTR', 'CVX', 'CMG', 'CB', 'CHD', 'CI', 'CINF', 'CTAS', 'CSCO', 'C', 'CFG', 'CLX', 'CME', 'CMS', 'KO', 'CTSH', 'CL', 'CMCSA', 'CMA', 'CAG', 'COP', 'ED', 'STZ', 'CEG', 'COO', 'CPRT', 'GLW', 'CTVA', 'CSGP', 'COST', 'CTRA', 'CCI', 'CSX', 'CMI', 'CVS', 'DHI', 'DHR', 'DRI', 'DVA', 'DE', 'DAL', 'XRAY', 'DVN', 'DXCM', 'FANG', 'DLR', 'DFS', 'DISH', 'DIS', 'DG', 'DLTR', 'D', 'DPZ', 'DOV', 'DOW', 'DTE', 'DUK', 'DD', 'DXC', 'EMN', 'ETN', 'EBAY', 'ECL', 'EIX', 'EW', 'EA', 'ELV', 'LLY', 'EMR', 'ENPH', 'ETR', 'EOG', 'EPAM', 'EQT', 'EFX', 'EQIX', 'EQR', 'ESS', 'EL', 'ETSY', 'RE', 'EVRG', 'ES', 'EXC', 'EXPE', 'EXPD', 'EXR', 'XOM', 'FFIV', 'FDS', 'FICO', 'FAST', 'FRT', 'FDX', 'FITB', 'FSLR', 'FE', 'FIS', 'FISV', 'FLT', 'FMC', 'F', 'FTNT', 'FTV', 'FOXA', 'FOX', 'BEN', 'FCX', 'GRMN', 'IT', 'GEHC', 'GEN', 'GNRC', 'GD', 'GE', 'GIS', 'GM', 'GPC', 'GILD', 'GL', 'GPN', 'GS', 'HAL', 'HIG', 'HAS', 'HCA', 'PEAK', 'HSIC', 'HSY', 'HES', 'HPE', 'HLT', 'HOLX', 'HD', 'HON', 'HRL', 'HST', 'HWM', 'HPQ', 'HUM', 'HBAN', 'HII', 'IBM', 'IEX', 'IDXX', 'ITW', 'ILMN', 'INCY', 'IR', 'PODD', 'INTC', 'ICE', 'IFF', 'IP', 'IPG', 'INTU', 'ISRG', 'IVZ', 'INVH', 'IQV', 'IRM', 'JBHT', 'JKHY', 'J', 'JNJ', 'JCI', 'JPM', 'JNPR', 'K', 'KDP', 'KEY', 'KEYS', 'KMB', 'KIM', 'KMI', 'KLAC', 'KHC', 'KR', 'LHX', 'LH', 'LRCX', 'LW', 'LVS', 'LDOS', 'LEN', 'LNC', 'LIN', 'LYV', 'LKQ', 'LMT', 'L', 'LOW', 'LYB', 'MTB', 'MRO', 'MPC', 'MKTX', 'MAR', 'MMC', 'MLM', 'MAS', 'MA', 'MTCH', 'MKC', 'MCD', 'MCK', 'MDT', 'MRK', 'META', 'MET', 'MTD', 'MGM', 'MCHP', 'MU', 'MSFT', 'MAA', 'MRNA', 'MHK', 'MOH', 'TAP', 'MDLZ', 'MPWR', 'MNST', 'MCO', 'MS', 'MOS', 'MSI', 'MSCI', 'NDAQ', 'NTAP', 'NFLX', 'NWL', 'NEM', 'NWSA', 'NWS', 'NEE', 'NKE', 'NI', 'NDSN', 'NSC', 'NTRS', 'NOC', 'NCLH', 'NRG', 'NUE', 'NVDA', 'NVR', 'NXPI', 'ORLY', 'OXY', 'ODFL', 'OMC', 'ON', 'OKE', 'ORCL', 'OGN', 'OTIS', 'PCAR', 'PKG', 'PARA', 'PH', 'PAYX', 'PAYC', 'PYPL', 'PNR', 'PEP', 'PFE', 'PCG', 'PM', 'PSX', 'PNW', 'PXD', 'PNC', 'POOL', 'PPG', 'PPL', 'PFG', 'PG', 'PGR', 'PLD', 'PRU', 'PEG', 'PTC', 'PSA', 'PHM', 'QRVO', 'PWR', 'QCOM', 'DGX', 'RL', 'RJF', 'RTX', 'O', 'REG', 'REGN', 'RF', 'RSG', 'RMD', 'RVTY', 'RHI', 'ROK', 'ROL', 'ROP', 'ROST', 'RCL', 'SPGI', 'CRM', 'SBAC', 'SLB', 'STX', 'SEE', 'SRE', 'NOW', 'SHW', 'SPG', 'SWKS', 'SJM', 'SNA', 'SEDG', 'SO', 'LUV', 'SWK', 'SBUX', 'STT', 'STLD', 'STE', 'SYK', 'SYF', 'SNPS', 'SYY', 'TMUS', 'TROW', 'TTWO', 'TPR', 'TRGP', 'TGT', 'TEL', 'TDY', 'TFX', 'TER', 'TSLA', 'TXN', 'TXT', 'TMO', 'TJX', 'TSCO', 'TT', 'TDG', 'TRV', 'TRMB', 'TFC', 'TYL', 'TSN', 'USB', 'UDR', 'ULTA', 'UNP', 'UAL', 'UPS', 'URI', 'UNH', 'UHS', 'VLO', 'VTR', 'VRSN', 'VRSK', 'VZ', 'VRTX', 'VFC', 'VTRS', 'VICI', 'V', 'VMC', 'WAB', 'WBA', 'WMT', 'WBD', 'WM', 'WAT', 'WEC', 'WFC', 'WELL', 'WST', 'WDC', 'WRK', 'WY', 'WHR', 'WMB', 'WTW', 'GWW', 'WYNN', 'XEL', 'XYL', 'YUM', 'ZBRA', 'ZBH', 'ZION', 'ZTS']\n"
     ]
    }
   ],
   "source": [
    "companies=pd.read_html('https://en.wikipedia.org/wiki/List_of_S%26P_500_companies')\n",
    "table  = companies[0]\n",
    "splst = table\n",
    "print(list(splst['Symbol']))"
   ]
  },
  {
   "cell_type": "code",
   "execution_count": null,
   "id": "b3bb5d61",
   "metadata": {},
   "outputs": [],
   "source": []
  }
 ],
 "metadata": {
  "kernelspec": {
   "display_name": "Python 3 (ipykernel)",
   "language": "python",
   "name": "python3"
  },
  "language_info": {
   "codemirror_mode": {
    "name": "ipython",
    "version": 3
   },
   "file_extension": ".py",
   "mimetype": "text/x-python",
   "name": "python",
   "nbconvert_exporter": "python",
   "pygments_lexer": "ipython3",
   "version": "3.10.9"
  }
 },
 "nbformat": 4,
 "nbformat_minor": 5
}
